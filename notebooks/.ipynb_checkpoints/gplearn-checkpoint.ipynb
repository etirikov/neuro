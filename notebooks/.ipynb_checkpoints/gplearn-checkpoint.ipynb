{
 "cells": [
  {
   "cell_type": "code",
   "execution_count": 1,
   "metadata": {},
   "outputs": [],
   "source": [
    "import pandas as pd\n",
    "import numpy as np\n",
    "import glob\n",
    "from gplearn.genetic import SymbolicRegressor, SymbolicTransformer\n",
    "from sklearn.metrics import mean_squared_error as MSE\n",
    "from sklearn.metrics import mean_absolute_error as MAE\n",
    "from sklearn.metrics import r2_score\n",
    "from sklearn.model_selection import train_test_split\n",
    "from sklearn.linear_model import Lasso\n",
    "import torch\n",
    "import matplotlib.pyplot as plt\n",
    "from scipy.signal import savgol_filter\n",
    "from sklearn.utils import check_random_state\n",
    "import time"
   ]
  },
  {
   "cell_type": "code",
   "execution_count": 13,
   "metadata": {},
   "outputs": [],
   "source": [
    "mens = []\n",
    "womens = []\n",
    "labels = pd.read_csv('./gender_labels.csv')\n",
    "for s in glob.glob('/neuro/notebooks/all_data_confounds_remove/*.csv'):\n",
    "    person = int(s.split('/')[-1].split('_')[0])\n",
    "    data = pd.read_csv(s)\n",
    "    data = data.rolling(window=10).mean().dropna()\n",
    "    if labels[labels['person']==person]['gender'].values[0]=='M':\n",
    "        mens.append(data)\n",
    "    else:\n",
    "        womens.append(data)\n",
    "mens = pd.concat(mens)\n",
    "womens = pd.concat(womens)       "
   ]
  },
  {
   "cell_type": "code",
   "execution_count": 14,
   "metadata": {},
   "outputs": [],
   "source": [
    "data = mens"
   ]
  },
  {
   "cell_type": "code",
   "execution_count": 21,
   "metadata": {},
   "outputs": [],
   "source": [
    "# data = pd.read_csv('../notebooks/filter_with_confounds_dataset.csv')\n",
    "region = 'x1'\n",
    "X = data.drop([region], axis=1)\n",
    "X = 10*X\n",
    "feature_names = X.columns\n",
    "feature_names = data.drop([region], axis=1).columns\n",
    "y = data[region].values\n",
    "X_train, X_test, y_train, y_test = train_test_split(X, y, test_size=.5, random_state=0)"
   ]
  },
  {
   "cell_type": "code",
   "execution_count": null,
   "metadata": {
    "scrolled": true
   },
   "outputs": [
    {
     "name": "stdout",
     "output_type": "stream",
     "text": [
      "    |   Population Average    |             Best Individual              |\n",
      "---- ------------------------- ------------------------------------------ ----------\n",
      " Gen   Length          Fitness   Length          Fitness      OOB Fitness  Time Left\n",
      "   0 10748.12     5.01827e+132        3         0.344732         0.347888   2570.02m\n"
     ]
    },
    {
     "name": "stderr",
     "output_type": "stream",
     "text": [
      "/usr/local/lib/python3.6/dist-packages/joblib/externals/loky/process_executor.py:706: UserWarning: A worker stopped while some jobs were given to the executor. This can be caused by a too short worker timeout or by a memory leak.\n",
      "  \"timeout or by a memory leak.\", UserWarning\n"
     ]
    },
    {
     "name": "stdout",
     "output_type": "stream",
     "text": [
      "   1  2827.84      4.75751e+31        3         0.343768         0.356562   1702.67m\n",
      "   2  1236.26      2.04643e+28        3         0.343746         0.356763   1532.56m\n"
     ]
    }
   ],
   "source": [
    "est_gp = SymbolicRegressor(population_size=1000,\n",
    "                           tournament_size=20,\n",
    "                           generations=200, stopping_criteria=0.001,\n",
    "                           const_range=(-3, 3),\n",
    "                           p_crossover=0.7, p_subtree_mutation=0.12,\n",
    "                           p_hoist_mutation=0.06, p_point_mutation=0.12,\n",
    "                           p_point_replace=1,\n",
    "                           init_depth = (10, 18),\n",
    "                           function_set=('mul', 'sub', 'div', 'add', 'sin'),\n",
    "#                            function_set=('mul', 'sub', 'add', 'sin'),\n",
    "                           max_samples=0.9, \n",
    "                           verbose=1,\n",
    "                           metric='mse',\n",
    "                           parsimony_coefficient=0.00001, \n",
    "                           random_state=0, \n",
    "                           n_jobs=20)\n",
    "\n",
    "est_gp.fit(X_train, y_train)\n",
    "print('train:', r2_score(y_train, est_gp.predict(X_train)))\n",
    "print('test:', r2_score(y_test, est_gp.predict(X_test)))\n",
    "print('train:', MAE(y_train, est_gp.predict(X_train)))\n",
    "print('test:', MAE(y_test, est_gp.predict(X_test)))\n",
    "print('program:', est_gp._program)"
   ]
  },
  {
   "cell_type": "code",
   "execution_count": null,
   "metadata": {},
   "outputs": [],
   "source": [
    "est_gp = SymbolicRegressor(population_size=500,\n",
    "                           tournament_size=20,\n",
    "                           generations=100, stopping_criteria=0.01,\n",
    "                           const_range=(-1, 1),\n",
    "                           p_crossover=0.5, p_subtree_mutation=0.22,\n",
    "                           p_hoist_mutation=0.06, p_point_mutation=0.22,\n",
    "                           p_point_replace=1,\n",
    "                           init_depth = (5, 10),\n",
    "                           function_set=('mul', 'sub', 'div', 'add', 'sin'),\n",
    "                           max_samples=0.9, \n",
    "                           verbose=1,\n",
    "                           parsimony_coefficient=0.00001, \n",
    "                           random_state=0, \n",
    "                           n_jobs=20)\n",
    "\n",
    "est_gp.fit(x, y)\n",
    "print('program:', est_gp._program)"
   ]
  },
  {
   "cell_type": "code",
   "execution_count": null,
   "metadata": {},
   "outputs": [],
   "source": []
  }
 ],
 "metadata": {
  "kernelspec": {
   "display_name": "Python 3",
   "language": "python",
   "name": "python3"
  }
 },
 "nbformat": 4,
 "nbformat_minor": 2
}
