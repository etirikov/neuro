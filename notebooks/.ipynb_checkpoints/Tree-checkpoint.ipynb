{
 "cells": [
  {
   "cell_type": "code",
   "execution_count": 1,
   "metadata": {},
   "outputs": [],
   "source": [
    "import numpy as np\n",
    "import pandas as pd\n",
    "from scripts.my_gp import Tree, Function"
   ]
  },
  {
   "cell_type": "code",
   "execution_count": null,
   "metadata": {},
   "outputs": [],
   "source": [
    "num_1 = Tree()\n",
    "num_2 = Tree()\n",
    "num_1.key = 6\n",
    "num_2.key = 3\n",
    "tree_1 = Tree()\n",
    "tree_1.key = Function('/')\n",
    "tree_1.left = num_1\n",
    "tree_1.right = num_2\n",
    "\n",
    "num_1 = Tree()\n",
    "num_2 = Tree()\n",
    "num_1.key = 4\n",
    "num_2.key = 2\n",
    "tree_2 = Tree()\n",
    "tree_2.key = Function('-')\n",
    "tree_2.left = num_1\n",
    "tree_2.right = num_2\n",
    "\n",
    "num_1 = Tree()\n",
    "num_2 = Tree()\n",
    "num_1.key = 5\n",
    "num_2.key = 1\n",
    "tree_3 = Tree()\n",
    "tree_3.key = Function('-')\n",
    "tree_3.left = num_1\n",
    "tree_3.right = num_2\n",
    "\n",
    "num_1 = Tree()\n",
    "num_2 = Tree()\n",
    "num_1.key = 3\n",
    "num_2.key = 2\n",
    "tree_4 = Tree()\n",
    "tree_4.key = Function('*')\n",
    "tree_4.left = num_1\n",
    "tree_4.right = num_2\n",
    "\n",
    "tree_11 = Tree()\n",
    "tree_11.key = Function('-')\n",
    "tree_11.left = tree_1\n",
    "tree_11.right = tree_2\n",
    "\n",
    "tree_22 = Tree()\n",
    "tree_22.key = Function('+')\n",
    "tree_22.left = tree_3\n",
    "tree_22.right = tree_4\n",
    "\n",
    "tree = Tree()\n",
    "tree.key = Function('*')\n",
    "tree.left = tree_11\n",
    "tree.right = tree_22"
   ]
  },
  {
   "cell_type": "code",
   "execution_count": null,
   "metadata": {},
   "outputs": [],
   "source": [
    "tree_22.calculation()"
   ]
  },
  {
   "cell_type": "code",
   "execution_count": null,
   "metadata": {},
   "outputs": [],
   "source": [
    "isinstance(tree.key, Function)"
   ]
  },
  {
   "cell_type": "code",
   "execution_count": null,
   "metadata": {},
   "outputs": [],
   "source": [
    "type(tree.key)"
   ]
  },
  {
   "cell_type": "code",
   "execution_count": null,
   "metadata": {},
   "outputs": [],
   "source": [
    "type(Function('*'))"
   ]
  },
  {
   "cell_type": "code",
   "execution_count": null,
   "metadata": {},
   "outputs": [],
   "source": [
    "np.random.randint(3,5)"
   ]
  },
  {
   "cell_type": "code",
   "execution_count": null,
   "metadata": {},
   "outputs": [],
   "source": [
    "np.round(np.random.rand(1)*4-2, 2)"
   ]
  },
  {
   "cell_type": "code",
   "execution_count": null,
   "metadata": {},
   "outputs": [],
   "source": [
    "Function.create_random_function()"
   ]
  },
  {
   "cell_type": "code",
   "execution_count": null,
   "metadata": {},
   "outputs": [],
   "source": [
    "Tree().create_random_tree(1, 3)"
   ]
  },
  {
   "cell_type": "code",
   "execution_count": 2,
   "metadata": {},
   "outputs": [],
   "source": [
    "a = Tree().create_random_tree(2, 4)"
   ]
  },
  {
   "cell_type": "code",
   "execution_count": 16,
   "metadata": {},
   "outputs": [
    {
     "data": {
      "text/plain": [
       "array([-1.51])"
      ]
     },
     "execution_count": 16,
     "metadata": {},
     "output_type": "execute_result"
    }
   ],
   "source": [
    "a.right.left.key"
   ]
  },
  {
   "cell_type": "code",
   "execution_count": 17,
   "metadata": {},
   "outputs": [
    {
     "data": {
      "text/plain": [
       "0.5245033112582781"
      ]
     },
     "execution_count": 17,
     "metadata": {},
     "output_type": "execute_result"
    }
   ],
   "source": [
    "(-1.39+0.73)/(-1.51/1.2)"
   ]
  },
  {
   "cell_type": "code",
   "execution_count": 18,
   "metadata": {},
   "outputs": [
    {
     "data": {
      "text/plain": [
       "array([0.52450331])"
      ]
     },
     "execution_count": 18,
     "metadata": {},
     "output_type": "execute_result"
    }
   ],
   "source": [
    "a.calculation()"
   ]
  },
  {
   "cell_type": "code",
   "execution_count": null,
   "metadata": {},
   "outputs": [],
   "source": []
  }
 ],
 "metadata": {
  "kernelspec": {
   "display_name": "Python 3",
   "language": "python",
   "name": "python3"
  },
  "language_info": {
   "codemirror_mode": {
    "name": "ipython",
    "version": 3
   },
   "file_extension": ".py",
   "mimetype": "text/x-python",
   "name": "python",
   "nbconvert_exporter": "python",
   "pygments_lexer": "ipython3",
   "version": "3.6.7"
  }
 },
 "nbformat": 4,
 "nbformat_minor": 2
}
