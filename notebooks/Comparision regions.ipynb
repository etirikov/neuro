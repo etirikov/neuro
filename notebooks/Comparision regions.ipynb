{
 "cells": [
  {
   "cell_type": "code",
   "execution_count": 1,
   "metadata": {},
   "outputs": [],
   "source": [
    "import pandas as pd\n",
    "import numpy as np\n",
    "import glob\n",
    "from gplearn.genetic import SymbolicRegressor\n",
    "from sklearn.metrics import mean_squared_error as MSE\n",
    "from sklearn.model_selection import train_test_split\n",
    "import torch\n",
    "import matplotlib.pyplot as plt\n",
    "from scipy.signal import savgol_filter\n",
    "from sklearn.metrics import r2_score, mean_squared_error"
   ]
  },
  {
   "cell_type": "code",
   "execution_count": 3,
   "metadata": {},
   "outputs": [],
   "source": [
    "mens = []\n",
    "womens = []\n",
    "labels = pd.read_csv('../gender_labels.csv')\n",
    "for s in glob.glob('../all_data_confounds_remove/*.csv'):\n",
    "    person = int(s.split('/')[-1].split('_')[0])\n",
    "    data = pd.read_csv(s)\n",
    "    data = data.rolling(window=10).mean().dropna()\n",
    "    if labels[labels['person']==person]['gender'].values[0]=='M':\n",
    "        mens.append(data)\n",
    "    else:\n",
    "        womens.append(data)\n",
    "mens = pd.concat(mens)\n",
    "womens = pd.concat(womens)  "
   ]
  },
  {
   "cell_type": "code",
   "execution_count": 5,
   "metadata": {},
   "outputs": [],
   "source": [
    "regions = mens.columns"
   ]
  },
  {
   "cell_type": "code",
   "execution_count": 6,
   "metadata": {},
   "outputs": [],
   "source": [
    "model_woman = torch.nn.Sequential(\n",
    "    torch.nn.Linear(47, 100),\n",
    "    torch.nn.Softplus(),\n",
    "    torch.nn.Linear(100, 50),\n",
    "    torch.nn.Softplus(),\n",
    "    torch.nn.Linear(50, 25),\n",
    "    torch.nn.Tanh(),\n",
    "    torch.nn.Linear(25, 1),\n",
    ").to('cuda:2')"
   ]
  },
  {
   "cell_type": "code",
   "execution_count": null,
   "metadata": {},
   "outputs": [],
   "source": []
  },
  {
   "cell_type": "code",
   "execution_count": 17,
   "metadata": {},
   "outputs": [
    {
     "name": "stdout",
     "output_type": "stream",
     "text": [
      "region: x0, r2_score: 0.1089\n",
      "region: x1, r2_score: 0.4916\n",
      "region: x2, r2_score: 0.0735\n",
      "region: x3, r2_score: 0.3862\n",
      "region: x4, r2_score: 0.045\n",
      "region: x5, r2_score: 0.2468\n",
      "region: x6, r2_score: 0.6172\n",
      "region: x7, r2_score: 0.2201\n",
      "region: x8, r2_score: 0.1125\n",
      "region: x9, r2_score: 0.3716\n",
      "region: x10, r2_score: 0.3468\n",
      "region: x11, r2_score: 0.3955\n",
      "region: x12, r2_score: -0.1936\n",
      "region: x13, r2_score: -0.3176\n",
      "region: x14, r2_score: -0.7044\n",
      "region: x15, r2_score: 0.0747\n",
      "region: x16, r2_score: 0.5984\n",
      "region: x17, r2_score: 0.2063\n",
      "region: x18, r2_score: 0.448\n",
      "region: x19, r2_score: 0.4648\n",
      "region: x20, r2_score: 0.4603\n",
      "region: x21, r2_score: 0.3675\n",
      "region: x22, r2_score: 0.3435\n",
      "region: x23, r2_score: 0.5785\n",
      "region: x24, r2_score: -0.1754\n",
      "region: x25, r2_score: 0.3385\n",
      "region: x26, r2_score: -0.8689\n",
      "region: x27, r2_score: 0.1376\n",
      "region: x28, r2_score: 0.1589\n",
      "region: x29, r2_score: 0.4065\n",
      "region: x30, r2_score: 0.5386\n",
      "region: x31, r2_score: 0.4232\n",
      "region: x32, r2_score: -0.0755\n",
      "region: x33, r2_score: -0.9266\n",
      "region: x34, r2_score: -0.4121\n",
      "region: x35, r2_score: 0.5855\n",
      "region: x36, r2_score: -0.9377\n",
      "region: x37, r2_score: -0.2668\n",
      "region: x38, r2_score: 0.177\n",
      "region: x39, r2_score: 0.4821\n",
      "region: x40, r2_score: 0.2828\n",
      "region: x41, r2_score: 0.5522\n",
      "region: x42, r2_score: 0.361\n",
      "region: x43, r2_score: 0.1212\n",
      "region: x44, r2_score: 0.1782\n",
      "region: x45, r2_score: 0.5028\n",
      "region: x46, r2_score: 0.536\n",
      "region: x47, r2_score: -0.017\n"
     ]
    }
   ],
   "source": [
    "device='cuda:1'\n",
    "data = womens\n",
    "model_man = torch.nn.Sequential(\n",
    "    torch.nn.Linear(47, 100),\n",
    "    torch.nn.Softplus(),\n",
    "    torch.nn.Linear(100, 50),\n",
    "    torch.nn.Softplus(),\n",
    "    torch.nn.Linear(50, 25),\n",
    "    torch.nn.Tanh(),\n",
    "    torch.nn.Linear(25, 1),\n",
    ").to(device)\n",
    "for region in regions:\n",
    "    model_man.load_state_dict(torch.load('../models/pytorch_model_{0}_mens.pt'.format(region)))\n",
    "    model_man.eval()\n",
    "\n",
    "    X = data.drop([region], axis=1).values\n",
    "    y = data[region].values\n",
    "    X_train, X_test, y_train, y_test = train_test_split(X, y, test_size=.3, random_state=0)\n",
    "\n",
    "    device='cuda:1'\n",
    "    y_predict = np.ravel(model_man(torch.FloatTensor(X_test).to(device)).detach().cpu().numpy())\n",
    "    print('region: {}, r2_score: {}'.format(region, np.round(r2_score(y_predict, y_test), 4)))"
   ]
  },
  {
   "cell_type": "code",
   "execution_count": 12,
   "metadata": {},
   "outputs": [],
   "source": [
    "error_regions = ['x14', 'x24', 'x26', 'x28', 'x32', 'x33', 'x34', 'x36', 'x37', 'x43', 'x44', 'x47']"
   ]
  },
  {
   "cell_type": "code",
   "execution_count": 14,
   "metadata": {},
   "outputs": [
    {
     "data": {
      "text/plain": [
       "12"
      ]
     },
     "execution_count": 14,
     "metadata": {},
     "output_type": "execute_result"
    }
   ],
   "source": [
    "len(error_regions)"
   ]
  },
  {
   "cell_type": "code",
   "execution_count": null,
   "metadata": {},
   "outputs": [],
   "source": []
  }
 ],
 "metadata": {
  "kernelspec": {
   "display_name": "Python 3",
   "language": "python",
   "name": "python3"
  },
  "language_info": {
   "codemirror_mode": {
    "name": "ipython",
    "version": 3
   },
   "file_extension": ".py",
   "mimetype": "text/x-python",
   "name": "python",
   "nbconvert_exporter": "python",
   "pygments_lexer": "ipython3",
   "version": "3.6.7"
  }
 },
 "nbformat": 4,
 "nbformat_minor": 2
}
